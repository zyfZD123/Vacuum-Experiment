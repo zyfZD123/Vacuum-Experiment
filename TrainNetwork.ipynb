{
 "cells": [
  {
   "cell_type": "markdown",
   "metadata": {},
   "source": [
    "#### File: TrainNetwork.ipynb\n",
    "- This file will train a convolutional neural network according to the trainset\n",
    "- The main function `trainNetwork()` is at the bottom. **Please ensure that all of code above `trainNetwork()` has been compiled and run before launching it.**\n",
    "- Just compile and run all the code sequentially."
   ]
  },
  {
   "cell_type": "code",
   "execution_count": null,
   "metadata": {},
   "outputs": [],
   "source": [
    "import torch\n",
    "import torch.nn as nn\n",
    "import torch.optim as optim\n",
    "import matplotlib.pyplot as plt\n",
    "import numpy as np\n",
    "from torchvision.datasets import ImageFolder\n",
    "from torchvision import transforms\n",
    "from ExpNetwork import *\n",
    "from os import makedirs\n",
    "from datetime import datetime\n",
    "from torch.utils.data import DataLoader"
   ]
  },
  {
   "cell_type": "markdown",
   "metadata": {},
   "source": [
    "#### functions in `trainNetwork()`\n",
    "- `getTrainLoader()`: using ImageFolder and Dataloader to get a training dataloader.\n",
    "- `printTrainResult()`: print loss and CNN parameters."
   ]
  },
  {
   "cell_type": "code",
   "execution_count": null,
   "metadata": {},
   "outputs": [],
   "source": [
    "def getTrainLoader(batchsize, trainsetdir):\n",
    "    train_transform = transforms.Compose([\n",
    "        transforms.ToTensor(),\n",
    "        transforms.Normalize((0.5 ), (0.5)),\n",
    "        transforms.Grayscale(num_output_channels=1) #convert to grayscale\n",
    "        ])\n",
    "\n",
    "    train = ImageFolder(root=trainsetdir, transform=train_transform)\n",
    "    trainloader = DataLoader(train, batch_size = batchsize, shuffle = True)\n",
    "    # the second return value is number of images in trainset\n",
    "    return trainloader, len(train)\n",
    "\n",
    "def printTrainResult(epochs, net, losslist, lossfnresult, shownetparam):\n",
    "    print('Finished training.')\n",
    "    if lossfnresult == True:\n",
    "        plt.figure(num=1, figsize=(10,8), facecolor=\"white\", edgecolor=\"white\")\n",
    "        plt.plot(losslist)\n",
    "        plt.title(\"Loss change\")\n",
    "        plt.xlabel('epoch')\n",
    "        plt.ylabel('loss')\n",
    "        plt.xticks(np.arange(0, epochs, 5))\n",
    "        plt.yticks(np.arange(0, losslist[0], 100))\n",
    "        plt.show()\n",
    "        print(\"Loss:\", losslist)\n",
    "    if shownetparam == True:\n",
    "        print('Net parameters:')\n",
    "        for key, value in net.state_dict().items():\n",
    "            torch.set_printoptions(profile=\"full\")\n",
    "            print(str(key)+\": \", value)"
   ]
  },
  {
   "cell_type": "code",
   "execution_count": null,
   "metadata": {},
   "outputs": [],
   "source": [
    "def trainNetwork(   networkname, batchsize, epochs, trainsetdir, learning_rate = 1e-2, \n",
    "                    lossfnresult = True, consoledebug = True, shownetparam = False):\n",
    "    # Check ExpNetwork.py for details of MyNetwork\n",
    "    net = MyNetwork()\n",
    "    #note: no need to do softmax, because softmax is done in function \"nn.CrossEntropyLoss()\"\n",
    "    loss_function = nn.CrossEntropyLoss()\n",
    "    optimizer = optim.SGD(net.parameters(), lr = learning_rate)\n",
    "    trainloader, _ = getTrainLoader(batchsize=batchsize, trainsetdir=trainsetdir)\n",
    "    losslist = []\n",
    "    print(\"Start training...\")\n",
    "    for epoch in range(epochs):\n",
    "        loss1 = 0\n",
    "        for mydata in trainloader:\n",
    "            inputs, labels = mydata\n",
    "            optimizer.zero_grad()\n",
    "            predicted_labels = net(inputs)\n",
    "            loss = loss_function(predicted_labels, labels)\n",
    "            loss.backward()\n",
    "            optimizer.step()\n",
    "            loss1 += loss.item()\n",
    "        if consoledebug == True:\n",
    "            losslist.append(loss1)\n",
    "            print('Epoch: %d, loss: %.6f' % (epoch + 1, loss1))\n",
    "    # save parameters of CNN to current directory    \n",
    "    torch.save(net.state_dict(), './' + networkname)   \n",
    "    printTrainResult(epochs, net, losslist, lossfnresult, shownetparam)\n",
    "    "
   ]
  },
  {
   "cell_type": "markdown",
   "metadata": {},
   "source": [
    "#### Main function: trainNetwork()\n",
    "- parameters:\n",
    "  - networkname: the name of file that stores all parameters of network. **<font color=\"red\">Note that it will overwrite the file with same name in current directory! So please ensure the networkname is unique</font>**\n",
    "  - trainsetdir: you may set it to your own dataset directory if neccessary.\n",
    "  - batchsize: for network training\n",
    "  - epoch: for network training\n",
    "  - learning rate(optional, default is 0.01)\n",
    "  - lossfnresult(optional, default is True): to check the loss function's value, set it True\n",
    "  - consoledebug(optional, default is True): to trace the current epoch, set it True, but it may print lots of lines\n",
    "  - shownetparam(optional, default is False): to check all the parameters of CNN"
   ]
  },
  {
   "cell_type": "code",
   "execution_count": null,
   "metadata": {},
   "outputs": [],
   "source": [
    "trainNetwork(   networkname = \"resultv3_justfortest.pth\", \n",
    "                batchsize=30, \n",
    "                epochs=5,  \n",
    "                trainsetdir=\"./trainsetv4\", \n",
    "                lossfnresult=True, \n",
    "                shownetparam=True, \n",
    "                consoledebug=True   )"
   ]
  }
 ],
 "metadata": {
  "interpreter": {
   "hash": "3e7576803a044dd1ffd5b972e29be8384eca3c8786984bff8f63f8ba650fae7a"
  },
  "kernelspec": {
   "display_name": "Python 3.10.0 64-bit",
   "language": "python",
   "name": "python3"
  },
  "language_info": {
   "codemirror_mode": {
    "name": "ipython",
    "version": 3
   },
   "file_extension": ".py",
   "mimetype": "text/x-python",
   "name": "python",
   "nbconvert_exporter": "python",
   "pygments_lexer": "ipython3",
   "version": "3.10.0"
  },
  "orig_nbformat": 4
 },
 "nbformat": 4,
 "nbformat_minor": 2
}
