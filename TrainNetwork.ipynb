{
 "cells": [
  {
   "cell_type": "markdown",
   "metadata": {},
   "source": [
    "####File: TrainNetwork.ipynb\n",
    "- This file will train a convolutional neural network according to the trainset\n",
    "- The main function `trainNetwork()` is at the bottom. **Please ensure that all of code above `trainNetwork()` has been compiled and run before launching the main function.**\n",
    "- Just compile and run sequentially."
   ]
  },
  {
   "cell_type": "code",
   "execution_count": null,
   "metadata": {},
   "outputs": [],
   "source": [
    "import torch\n",
    "import torch.nn as nn\n",
    "import torch.nn.functional as functional\n",
    "import torchvision \n",
    "from torchvision.datasets import ImageFolder\n",
    "import torch.optim as optim\n",
    "import os\n",
    "from xlwt import Workbook"
   ]
  },
  {
   "cell_type": "code",
   "execution_count": null,
   "metadata": {},
   "outputs": [],
   "source": [
    "class Network(nn.Module):\n",
    "    def __init__(self):\n",
    "        self.output_size = 12\n",
    "        \n",
    "        super(Network, self).__init__()\n",
    "        self.conv1 = nn.Conv2d(3, 6, 5)\n",
    "        self.conv2 = nn.Conv2d(6, 16, 5)\n",
    "        self.pool = nn.MaxPool2d(2)\n",
    "        self.fc = nn.Linear(400, 120)\n",
    "        self.fc1 = nn.Linear(120, 84)\n",
    "        self.fc2 = nn.Linear(84, self.output_size)\n",
    "        \n",
    "    def forward(self, x):\n",
    "        x = self.pool(functional.relu(self.conv1(x)))\n",
    "        x = self.pool(functional.relu(self.conv2(x)))\n",
    "        x = x.view(-1, 400)\n",
    "        x = functional.relu(self.fc(x))\n",
    "        x = functional.relu(self.fc1(x))\n",
    "        x = self.fc2(x)\n",
    "        return x"
   ]
  },
  {
   "cell_type": "code",
   "execution_count": null,
   "metadata": {},
   "outputs": [],
   "source": [
    "def initExcelTable_train():\n",
    "    wb = Workbook()\n",
    "    sheet1 = wb.add_sheet('Sheet 1')\n",
    "    sheet1.write(0, 0, 'epoch')\n",
    "    sheet1.write(0, 1, 'loss')\n",
    "    return wb, sheet1\n",
    "\n",
    "def getTrainLoader(batchsize, trainsetdir):\n",
    "    custom_transform = torchvision.transforms.Compose([\n",
    "        # torchvision.transforms.RandomResizedCrop(size=32,scale=(0.5,1.0)), \n",
    "        # torchvision.transforms.RandomPerspective(distortion_scale=0.6,p=1.0),\n",
    "        torchvision.transforms.ToTensor(),\n",
    "        torchvision.transforms.Normalize((0.5 ), (0.5))\n",
    "        ])\n",
    "\n",
    "    train = ImageFolder(root=trainsetdir, transform=custom_transform)\n",
    "    trainloader = torch.utils.data.DataLoader(\n",
    "        train,\n",
    "        batch_size = batchsize,\n",
    "        shuffle = True\n",
    "    )\n",
    "    # the second return value is number of images in trainset\n",
    "    return trainloader, len(train)"
   ]
  },
  {
   "cell_type": "code",
   "execution_count": null,
   "metadata": {},
   "outputs": [],
   "source": [
    "#nn.Conv2d(ni,no,f,s) ni:number of input channels, no: num of output channels\n",
    "#f: convolutional kernel size, usually 5. s:stride (default=1), if it's not 1, it will not\n",
    "#use the whole data\n",
    "#F.cross_entropy(logits, y) This function will use softmax and calculate entropy\n",
    "#note: no need to do softmax, because softmax is done in function \"cross_entropy\"\n",
    "\n",
    "def trainNetwork(networkname, batchsize, epochs, learning_rate = 1e-2, lossfnresult = True, consoledebug = False, \n",
    "                trainsetdir = './trainset'):\n",
    "    wb, sheet1 = initExcelTable_train()\n",
    "    net = Network()\n",
    "    loss_function = nn.CrossEntropyLoss()\n",
    "    optimizer = optim.SGD(net.parameters(), lr = learning_rate)\n",
    "    running_loss = 0.0\n",
    "    trainloader, _ = getTrainLoader(batchsize=batchsize, trainsetdir=trainsetdir)\n",
    "    for epoch in range(epochs):\n",
    "        running_loss = 0.0\n",
    "        loss1 = 0\n",
    "        for i, mydata in enumerate(trainloader, 0):\n",
    "            inputs, labels = mydata\n",
    "            optimizer.zero_grad()\n",
    "            predicted_labels = net(inputs)\n",
    "            loss = loss_function(predicted_labels, labels)\n",
    "            loss.backward()\n",
    "            optimizer.step()\n",
    "            running_loss += loss.item()\n",
    "            loss1 += loss.item()\n",
    "            if i % 20 == 19 and consoledebug == True:    # print every 20 mini-batches, for debug\n",
    "                print('Epoch: %d, after mini-batch: %5d loss: %.6f' % (epoch + 1, i + 1, running_loss / 20))\n",
    "                running_loss = 0.0\n",
    "        if lossfnresult == True:\n",
    "            sheet1.write(epoch + 1, 1, loss1)\n",
    "            sheet1.write(epoch + 1, 0, epoch + 1)\n",
    "        \n",
    "    torch.save(net.state_dict(), './' + networkname)\n",
    "    \n",
    "    if lossfnresult == True:\n",
    "        if os.path.isfile('train_result.xls'):\n",
    "            os.remove('train_result.xls')\n",
    "        wb.save('train_result.xls')\n",
    "        \n",
    "    print('Finished training.')"
   ]
  },
  {
   "cell_type": "markdown",
   "metadata": {},
   "source": [
    "####Main function: trainNetwork()\n",
    "- parameters:\n",
    "  - networkname: the name of file that stores all parameters of network\n",
    "  - batchsize(optional, default is 24)\n",
    "  - learning rate(optional, default is 0.01)\n",
    "  - lossfnresult(optional, default is True): if you want to check the loss function's value via an excel, set it True\n",
    "  - consoledebug(optional, default is False): if you want to trace the current epoch, set it True, but it may print lot of lines\n",
    "  - trainsetdir(optional, default is using the current trainset): you may set it to your own dataset directory if neccessary."
   ]
  },
  {
   "cell_type": "code",
   "execution_count": null,
   "metadata": {},
   "outputs": [],
   "source": [
    "trainNetwork(networkname = \"result.pth\", batchsize=30, epochs=30, consoledebug=True)"
   ]
  }
 ],
 "metadata": {
  "interpreter": {
   "hash": "3e7576803a044dd1ffd5b972e29be8384eca3c8786984bff8f63f8ba650fae7a"
  },
  "kernelspec": {
   "display_name": "Python 3.10.0 64-bit",
   "language": "python",
   "name": "python3"
  },
  "language_info": {
   "codemirror_mode": {
    "name": "ipython",
    "version": 3
   },
   "file_extension": ".py",
   "mimetype": "text/x-python",
   "name": "python",
   "nbconvert_exporter": "python",
   "pygments_lexer": "ipython3",
   "version": "3.10.0"
  },
  "orig_nbformat": 4
 },
 "nbformat": 4,
 "nbformat_minor": 2
}
